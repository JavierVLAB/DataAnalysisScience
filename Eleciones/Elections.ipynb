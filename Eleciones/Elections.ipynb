{
 "cells": [
  {
   "cell_type": "markdown",
   "metadata": {},
   "source": [
    "<h1>Spanish Elections 2015/2016</h1>"
   ]
  },
  {
   "cell_type": "markdown",
   "metadata": {},
   "source": [
    "Data of the elections of Spain in 2015 and 2106<br>\n",
    "the data is from http://elecciones.elperiodico.com/resultados/generales/2016/espana/"
   ]
  },
  {
   "cell_type": "code",
   "execution_count": 1,
   "metadata": {
    "collapsed": true
   },
   "outputs": [],
   "source": [
    "import pandas\n"
   ]
  },
  {
   "cell_type": "code",
   "execution_count": 2,
   "metadata": {
    "collapsed": false
   },
   "outputs": [],
   "source": [
    "raw_elections_2015 = pandas.read_csv(\"test2015.csv\",delimiter='\\t')\n",
    "raw_elections_2016 = pandas.read_csv(\"test2016.csv\",delimiter='\\t')"
   ]
  },
  {
   "cell_type": "code",
   "execution_count": 3,
   "metadata": {
    "collapsed": false
   },
   "outputs": [
    {
     "name": "stdout",
     "output_type": "stream",
     "text": [
      "Index(['Partido', 'Votos', '%', 'Escannos'], dtype='object')\n"
     ]
    }
   ],
   "source": [
    "def find_PODEMOS(words):\n",
    "    if 'PODEMOS' in words:\n",
    "        return 'PODEMOS'\n",
    "    if 'EN COMU' == words:\n",
    "        return 'PODEMOS'\n",
    "    return words\n",
    "\n",
    "elections_2015 = raw_elections_2015\n",
    "elections_2016 = raw_elections_2016\n",
    "\n",
    "elections_2015['Partido'] = elections_2015['Partido'].apply(find_PODEMOS)\n",
    "elections_2016['Partido'] = elections_2016['Partido'].apply(find_PODEMOS)\n",
    "\n",
    "print(elections_2015.columns)"
   ]
  },
  {
   "cell_type": "code",
   "execution_count": 4,
   "metadata": {
    "collapsed": false
   },
   "outputs": [],
   "source": [
    "#The data is in spanish format (10,0 and 1.000) \n",
    "def replace_dots(word):\n",
    "    return word.replace('.','')\n",
    "def replace_commas(word):\n",
    "    return word.replace(',','.')\n",
    "\n",
    "elections_2015['Votos'] = elections_2015['Votos'].apply(replace_dots) \n",
    "elections_2015['%'] = elections_2015['%'].apply(replace_commas) \n",
    "elections_2016['Votos'] = elections_2016['Votos'].apply(replace_dots) \n",
    "elections_2016['%'] = elections_2016['%'].apply(replace_commas) "
   ]
  },
  {
   "cell_type": "code",
   "execution_count": 5,
   "metadata": {
    "collapsed": false
   },
   "outputs": [
    {
     "name": "stdout",
     "output_type": "stream",
     "text": [
      "<class 'pandas.core.frame.DataFrame'>\n",
      "RangeIndex: 40 entries, 0 to 39\n",
      "Data columns (total 4 columns):\n",
      "Partido     40 non-null object\n",
      "Votos       40 non-null object\n",
      "%           40 non-null object\n",
      "Escannos    40 non-null int64\n",
      "dtypes: int64(1), object(3)\n",
      "memory usage: 1.3+ KB\n"
     ]
    }
   ],
   "source": [
    "elections_2015.info()"
   ]
  },
  {
   "cell_type": "markdown",
   "metadata": {},
   "source": [
    "<p>All the data are string</p>"
   ]
  },
  {
   "cell_type": "code",
   "execution_count": 6,
   "metadata": {
    "collapsed": false
   },
   "outputs": [
    {
     "name": "stdout",
     "output_type": "stream",
     "text": [
      "   Partido    Votos      %  Escannos\n",
      "0       PP  7236965  28.71       123\n",
      "1     PSOE  5545315  22.00        90\n",
      "2      C's  3514528  13.94        40\n",
      "3  PODEMOS  3198584  12.69        42\n",
      "4  PODEMOS   929880   3.69        12\n",
      "   Partido    Votos      %  Escannos\n",
      "0       PP  7902147  33.03       137\n",
      "1     PSOE  5423171  22.67        85\n",
      "2  PODEMOS  3199947  13.37        45\n",
      "3      C's  3122192  13.05        32\n",
      "4      ECP   848429   3.55        12\n"
     ]
    }
   ],
   "source": [
    "\n",
    "elections_2015['Votos'] = pandas.to_numeric(elections_2015['Votos'], errors='coerse')\n",
    "elections_2015['Escannos'] = pandas.to_numeric(elections_2015['Escannos'], errors='coerse')\n",
    "elections_2015['%'] = pandas.to_numeric(elections_2015['%'], errors='coerse')\n",
    "elections_2016['Votos'] = pandas.to_numeric(elections_2016['Votos'], errors='coerse')\n",
    "elections_2016['Escannos'] = pandas.to_numeric(elections_2016['Escannos'], errors='coerse')\n",
    "elections_2016['%'] = pandas.to_numeric(elections_2016['%'], errors='coerse')\n",
    "print(elections_2015.head())\n",
    "print(elections_2016.head())"
   ]
  },
  {
   "cell_type": "code",
   "execution_count": 7,
   "metadata": {
    "collapsed": false
   },
   "outputs": [
    {
     "data": {
      "text/html": [
       "<div>\n",
       "<table border=\"1\" class=\"dataframe\">\n",
       "  <thead>\n",
       "    <tr style=\"text-align: right;\">\n",
       "      <th></th>\n",
       "      <th>Votos</th>\n",
       "      <th>%</th>\n",
       "      <th>Escannos</th>\n",
       "    </tr>\n",
       "  </thead>\n",
       "  <tbody>\n",
       "    <tr>\n",
       "      <th>count</th>\n",
       "      <td>4.000000e+01</td>\n",
       "      <td>40.000000</td>\n",
       "      <td>40.000000</td>\n",
       "    </tr>\n",
       "    <tr>\n",
       "      <th>mean</th>\n",
       "      <td>6.252246e+05</td>\n",
       "      <td>2.480000</td>\n",
       "      <td>8.750000</td>\n",
       "    </tr>\n",
       "    <tr>\n",
       "      <th>std</th>\n",
       "      <td>1.547025e+06</td>\n",
       "      <td>6.137437</td>\n",
       "      <td>24.797384</td>\n",
       "    </tr>\n",
       "    <tr>\n",
       "      <th>min</th>\n",
       "      <td>1.604000e+03</td>\n",
       "      <td>0.010000</td>\n",
       "      <td>0.000000</td>\n",
       "    </tr>\n",
       "    <tr>\n",
       "      <th>25%</th>\n",
       "      <td>4.119500e+03</td>\n",
       "      <td>0.017500</td>\n",
       "      <td>0.000000</td>\n",
       "    </tr>\n",
       "    <tr>\n",
       "      <th>50%</th>\n",
       "      <td>3.252800e+04</td>\n",
       "      <td>0.125000</td>\n",
       "      <td>0.000000</td>\n",
       "    </tr>\n",
       "    <tr>\n",
       "      <th>75%</th>\n",
       "      <td>3.294115e+05</td>\n",
       "      <td>1.307500</td>\n",
       "      <td>3.000000</td>\n",
       "    </tr>\n",
       "    <tr>\n",
       "      <th>max</th>\n",
       "      <td>7.236965e+06</td>\n",
       "      <td>28.710000</td>\n",
       "      <td>123.000000</td>\n",
       "    </tr>\n",
       "  </tbody>\n",
       "</table>\n",
       "</div>"
      ],
      "text/plain": [
       "              Votos          %    Escannos\n",
       "count  4.000000e+01  40.000000   40.000000\n",
       "mean   6.252246e+05   2.480000    8.750000\n",
       "std    1.547025e+06   6.137437   24.797384\n",
       "min    1.604000e+03   0.010000    0.000000\n",
       "25%    4.119500e+03   0.017500    0.000000\n",
       "50%    3.252800e+04   0.125000    0.000000\n",
       "75%    3.294115e+05   1.307500    3.000000\n",
       "max    7.236965e+06  28.710000  123.000000"
      ]
     },
     "execution_count": 7,
     "metadata": {},
     "output_type": "execute_result"
    }
   ],
   "source": [
    "elections_2015.describe()"
   ]
  },
  {
   "cell_type": "code",
   "execution_count": 8,
   "metadata": {
    "collapsed": false
   },
   "outputs": [],
   "source": [
    "elections_2016 = elections_2016.groupby('Partido',as_index=False).sum()\n",
    "elections_2015 = elections_2015.groupby('Partido',as_index=False).sum()"
   ]
  },
  {
   "cell_type": "code",
   "execution_count": 9,
   "metadata": {
    "collapsed": false
   },
   "outputs": [],
   "source": [
    "elections_2015.columns=['Partido','Votos 2015','% 2015', 'Escanos 2015']\n",
    "elections_2016.columns=['Partido','Votos 2016','% 2016', 'Escanos 2016']"
   ]
  },
  {
   "cell_type": "code",
   "execution_count": 10,
   "metadata": {
    "collapsed": false
   },
   "outputs": [],
   "source": [
    "belections = pandas.merge(elections_2015, elections_2016, on='Partido',how='outer')\n",
    "elections = pandas.merge(elections_2015, elections_2016, on='Partido',how='inner')"
   ]
  },
  {
   "cell_type": "code",
   "execution_count": 11,
   "metadata": {
    "collapsed": false
   },
   "outputs": [
    {
     "data": {
      "text/html": [
       "<div>\n",
       "<table border=\"1\" class=\"dataframe\">\n",
       "  <thead>\n",
       "    <tr style=\"text-align: right;\">\n",
       "      <th></th>\n",
       "      <th>Partido</th>\n",
       "      <th>Votos 2015</th>\n",
       "      <th>% 2015</th>\n",
       "      <th>Escanos 2015</th>\n",
       "      <th>Votos 2016</th>\n",
       "      <th>% 2016</th>\n",
       "      <th>Escanos 2016</th>\n",
       "    </tr>\n",
       "  </thead>\n",
       "  <tbody>\n",
       "    <tr>\n",
       "      <th>16</th>\n",
       "      <td>PP</td>\n",
       "      <td>7236965</td>\n",
       "      <td>28.71</td>\n",
       "      <td>123</td>\n",
       "      <td>7902147</td>\n",
       "      <td>33.03</td>\n",
       "      <td>137</td>\n",
       "    </tr>\n",
       "    <tr>\n",
       "      <th>17</th>\n",
       "      <td>PSOE</td>\n",
       "      <td>5545315</td>\n",
       "      <td>22.00</td>\n",
       "      <td>90</td>\n",
       "      <td>5423171</td>\n",
       "      <td>22.67</td>\n",
       "      <td>85</td>\n",
       "    </tr>\n",
       "    <tr>\n",
       "      <th>15</th>\n",
       "      <td>PODEMOS</td>\n",
       "      <td>5212711</td>\n",
       "      <td>20.68</td>\n",
       "      <td>69</td>\n",
       "      <td>4199683</td>\n",
       "      <td>17.55</td>\n",
       "      <td>59</td>\n",
       "    </tr>\n",
       "    <tr>\n",
       "      <th>0</th>\n",
       "      <td>C's</td>\n",
       "      <td>3514528</td>\n",
       "      <td>13.94</td>\n",
       "      <td>40</td>\n",
       "      <td>3122192</td>\n",
       "      <td>13.05</td>\n",
       "      <td>32</td>\n",
       "    </tr>\n",
       "    <tr>\n",
       "      <th>7</th>\n",
       "      <td>ERC-CATSI</td>\n",
       "      <td>601782</td>\n",
       "      <td>2.39</td>\n",
       "      <td>9</td>\n",
       "      <td>629213</td>\n",
       "      <td>2.63</td>\n",
       "      <td>9</td>\n",
       "    </tr>\n",
       "    <tr>\n",
       "      <th>4</th>\n",
       "      <td>EAJ-PNV</td>\n",
       "      <td>302316</td>\n",
       "      <td>1.20</td>\n",
       "      <td>6</td>\n",
       "      <td>286215</td>\n",
       "      <td>1.20</td>\n",
       "      <td>5</td>\n",
       "    </tr>\n",
       "    <tr>\n",
       "      <th>11</th>\n",
       "      <td>PACMA</td>\n",
       "      <td>220369</td>\n",
       "      <td>0.87</td>\n",
       "      <td>0</td>\n",
       "      <td>284763</td>\n",
       "      <td>1.19</td>\n",
       "      <td>0</td>\n",
       "    </tr>\n",
       "    <tr>\n",
       "      <th>6</th>\n",
       "      <td>EH Bildu</td>\n",
       "      <td>219125</td>\n",
       "      <td>0.87</td>\n",
       "      <td>2</td>\n",
       "      <td>184092</td>\n",
       "      <td>0.77</td>\n",
       "      <td>2</td>\n",
       "    </tr>\n",
       "    <tr>\n",
       "      <th>2</th>\n",
       "      <td>CCa-PNC</td>\n",
       "      <td>81917</td>\n",
       "      <td>0.32</td>\n",
       "      <td>1</td>\n",
       "      <td>77873</td>\n",
       "      <td>0.33</td>\n",
       "      <td>1</td>\n",
       "    </tr>\n",
       "    <tr>\n",
       "      <th>21</th>\n",
       "      <td>VOX</td>\n",
       "      <td>58114</td>\n",
       "      <td>0.23</td>\n",
       "      <td>0</td>\n",
       "      <td>46742</td>\n",
       "      <td>0.20</td>\n",
       "      <td>0</td>\n",
       "    </tr>\n",
       "    <tr>\n",
       "      <th>18</th>\n",
       "      <td>RECORTES CERO-GRUPO VERDE</td>\n",
       "      <td>48675</td>\n",
       "      <td>0.19</td>\n",
       "      <td>0</td>\n",
       "      <td>51719</td>\n",
       "      <td>0.22</td>\n",
       "      <td>0</td>\n",
       "    </tr>\n",
       "    <tr>\n",
       "      <th>13</th>\n",
       "      <td>PCPE</td>\n",
       "      <td>31179</td>\n",
       "      <td>0.12</td>\n",
       "      <td>0</td>\n",
       "      <td>26549</td>\n",
       "      <td>0.11</td>\n",
       "      <td>0</td>\n",
       "    </tr>\n",
       "    <tr>\n",
       "      <th>9</th>\n",
       "      <td>GBAI</td>\n",
       "      <td>30642</td>\n",
       "      <td>0.12</td>\n",
       "      <td>0</td>\n",
       "      <td>14289</td>\n",
       "      <td>0.06</td>\n",
       "      <td>0</td>\n",
       "    </tr>\n",
       "    <tr>\n",
       "      <th>1</th>\n",
       "      <td>CCD</td>\n",
       "      <td>10827</td>\n",
       "      <td>0.04</td>\n",
       "      <td>0</td>\n",
       "      <td>6264</td>\n",
       "      <td>0.03</td>\n",
       "      <td>0</td>\n",
       "    </tr>\n",
       "    <tr>\n",
       "      <th>5</th>\n",
       "      <td>EB</td>\n",
       "      <td>10084</td>\n",
       "      <td>0.04</td>\n",
       "      <td>0</td>\n",
       "      <td>12021</td>\n",
       "      <td>0.05</td>\n",
       "      <td>0</td>\n",
       "    </tr>\n",
       "    <tr>\n",
       "      <th>8</th>\n",
       "      <td>FE de las JONS</td>\n",
       "      <td>7495</td>\n",
       "      <td>0.03</td>\n",
       "      <td>0</td>\n",
       "      <td>9852</td>\n",
       "      <td>0.04</td>\n",
       "      <td>0</td>\n",
       "    </tr>\n",
       "    <tr>\n",
       "      <th>20</th>\n",
       "      <td>SOMVAL</td>\n",
       "      <td>6103</td>\n",
       "      <td>0.02</td>\n",
       "      <td>0</td>\n",
       "      <td>6612</td>\n",
       "      <td>0.03</td>\n",
       "      <td>0</td>\n",
       "    </tr>\n",
       "    <tr>\n",
       "      <th>19</th>\n",
       "      <td>SAIn</td>\n",
       "      <td>4400</td>\n",
       "      <td>0.02</td>\n",
       "      <td>0</td>\n",
       "      <td>3218</td>\n",
       "      <td>0.01</td>\n",
       "      <td>0</td>\n",
       "    </tr>\n",
       "    <tr>\n",
       "      <th>3</th>\n",
       "      <td>CENTRO MODERADO</td>\n",
       "      <td>3278</td>\n",
       "      <td>0.01</td>\n",
       "      <td>0</td>\n",
       "      <td>2986</td>\n",
       "      <td>0.01</td>\n",
       "      <td>0</td>\n",
       "    </tr>\n",
       "    <tr>\n",
       "      <th>10</th>\n",
       "      <td>P-LIB</td>\n",
       "      <td>2854</td>\n",
       "      <td>0.01</td>\n",
       "      <td>0</td>\n",
       "      <td>3101</td>\n",
       "      <td>0.01</td>\n",
       "      <td>0</td>\n",
       "    </tr>\n",
       "    <tr>\n",
       "      <th>14</th>\n",
       "      <td>PH</td>\n",
       "      <td>2846</td>\n",
       "      <td>0.01</td>\n",
       "      <td>0</td>\n",
       "      <td>3287</td>\n",
       "      <td>0.01</td>\n",
       "      <td>0</td>\n",
       "    </tr>\n",
       "    <tr>\n",
       "      <th>12</th>\n",
       "      <td>PCOE</td>\n",
       "      <td>1909</td>\n",
       "      <td>0.01</td>\n",
       "      <td>0</td>\n",
       "      <td>1812</td>\n",
       "      <td>0.01</td>\n",
       "      <td>0</td>\n",
       "    </tr>\n",
       "  </tbody>\n",
       "</table>\n",
       "</div>"
      ],
      "text/plain": [
       "                      Partido  Votos 2015  % 2015  Escanos 2015  Votos 2016  \\\n",
       "16                         PP     7236965   28.71           123     7902147   \n",
       "17                       PSOE     5545315   22.00            90     5423171   \n",
       "15                    PODEMOS     5212711   20.68            69     4199683   \n",
       "0                         C's     3514528   13.94            40     3122192   \n",
       "7                   ERC-CATSI      601782    2.39             9      629213   \n",
       "4                     EAJ-PNV      302316    1.20             6      286215   \n",
       "11                      PACMA      220369    0.87             0      284763   \n",
       "6                    EH Bildu      219125    0.87             2      184092   \n",
       "2                     CCa-PNC       81917    0.32             1       77873   \n",
       "21                        VOX       58114    0.23             0       46742   \n",
       "18  RECORTES CERO-GRUPO VERDE       48675    0.19             0       51719   \n",
       "13                       PCPE       31179    0.12             0       26549   \n",
       "9                        GBAI       30642    0.12             0       14289   \n",
       "1                         CCD       10827    0.04             0        6264   \n",
       "5                          EB       10084    0.04             0       12021   \n",
       "8              FE de las JONS        7495    0.03             0        9852   \n",
       "20                     SOMVAL        6103    0.02             0        6612   \n",
       "19                       SAIn        4400    0.02             0        3218   \n",
       "3             CENTRO MODERADO        3278    0.01             0        2986   \n",
       "10                      P-LIB        2854    0.01             0        3101   \n",
       "14                         PH        2846    0.01             0        3287   \n",
       "12                       PCOE        1909    0.01             0        1812   \n",
       "\n",
       "    % 2016  Escanos 2016  \n",
       "16   33.03           137  \n",
       "17   22.67            85  \n",
       "15   17.55            59  \n",
       "0    13.05            32  \n",
       "7     2.63             9  \n",
       "4     1.20             5  \n",
       "11    1.19             0  \n",
       "6     0.77             2  \n",
       "2     0.33             1  \n",
       "21    0.20             0  \n",
       "18    0.22             0  \n",
       "13    0.11             0  \n",
       "9     0.06             0  \n",
       "1     0.03             0  \n",
       "5     0.05             0  \n",
       "8     0.04             0  \n",
       "20    0.03             0  \n",
       "19    0.01             0  \n",
       "3     0.01             0  \n",
       "10    0.01             0  \n",
       "14    0.01             0  \n",
       "12    0.01             0  "
      ]
     },
     "execution_count": 11,
     "metadata": {},
     "output_type": "execute_result"
    }
   ],
   "source": [
    "elections.sort_values('Votos 2015', ascending = False)"
   ]
  },
  {
   "cell_type": "code",
   "execution_count": 12,
   "metadata": {
    "collapsed": false
   },
   "outputs": [],
   "source": [
    "import matplotlib.pyplot as plt\n",
    "import seaborn as sns\n",
    "%matplotlib inline\n",
    "\n",
    "sns.set_style(\"whitegrid\")\n",
    "sns.set_style({\"grid.color\": \"1.\"})\n",
    "sns.set_context(\"notebook\", font_scale=1.5)"
   ]
  },
  {
   "cell_type": "code",
   "execution_count": 15,
   "metadata": {
    "collapsed": false
   },
   "outputs": [
    {
     "data": {
      "text/plain": [
       "<matplotlib.axes._subplots.AxesSubplot at 0x11ea240f0>"
      ]
     },
     "execution_count": 15,
     "metadata": {},
     "output_type": "execute_result"
    },
    {
     "data": {
      "image/png": "[encoded data removed]",
      "text/plain": [
       "<matplotlib.figure.Figure at 0x11ea31240>"
      ]
     },
     "metadata": {},
     "output_type": "display_data"
    }
   ],
   "source": [
    "election_filtred = elections[elections['% 2015'] > 1.01]\n",
    "\n",
    "\n",
    "election_filtred = election_filtred.sort_values('% 2016', ascending=False)\n",
    "columns = election_filtred['Partido']\n",
    "\n",
    "#Dataframe transposition for graph\n",
    "dict_pre = {}\n",
    "for i in range(election_filtred.shape[0]):\n",
    "    #print(i)\n",
    "    dict_pre[election_filtred.iloc[i,0]] = [election_filtred.iloc[i,1],election_filtred.iloc[i,4]]\n",
    "\n",
    "election_graph = pandas.DataFrame(dict_pre, index=[2015,2016])\n",
    "election_graph.columns = columns\n",
    "election_graph.plot(colormap='Paired')\n",
    "\n"
   ]
  },
  {
   "cell_type": "markdown",
   "metadata": {
    "collapsed": true
   },
   "source": [
    "<h3>Despite all the corruption cases from the PP, only this growh their votes in 2016</h3>"
   ]
  },
  {
   "cell_type": "code",
   "execution_count": null,
   "metadata": {
    "collapsed": false
   },
   "outputs": [],
   "source": [
    "#elections.to_csv(\"elections_clean.csv\")"
   ]
  },
  {
   "cell_type": "code",
   "execution_count": null,
   "metadata": {
    "collapsed": true
   },
   "outputs": [],
   "source": []
  }
 ],
 "metadata": {
  "kernelspec": {
   "display_name": "Python 3",
   "language": "python",
   "name": "python3"
  },
  "language_info": {
   "codemirror_mode": {
    "name": "ipython",
    "version": 3
   },
   "file_extension": ".py",
   "mimetype": "text/x-python",
   "name": "python",
   "nbconvert_exporter": "python",
   "pygments_lexer": "ipython3",
   "version": "3.5.2"
  }
 },
 "nbformat": 4,
 "nbformat_minor": 0
}
