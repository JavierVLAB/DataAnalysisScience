{
 "cells": [
  {
   "cell_type": "markdown",
   "metadata": {},
   "source": [
    "<h1>Exploring Titanic Dataset</h1>\n",
    "<h3>by Javier Villarroel</h3>\n",
    "\n",
    "<h2>Introduction</h2>\n"
   ]
  },
  {
   "cell_type": "code",
   "execution_count": 1,
   "metadata": {
    "collapsed": true
   },
   "outputs": [],
   "source": [
    "#Libraries to import\n",
    "\n",
    "import numpy\n",
    "import pandas\n",
    "import matplotlib.pyplot as plt\n",
    "import seaborn as sns\n",
    "\n",
    "%matplotlib inline\n"
   ]
  },
  {
   "cell_type": "code",
   "execution_count": 2,
   "metadata": {
    "collapsed": false
   },
   "outputs": [],
   "source": [
    "# Import dataset \n",
    "# this dataset was take from titanic dataset competition\n",
    "\n",
    "train = pandas.read_csv('train.csv')\n",
    "test = pandas.read_csv('test.csv')"
   ]
  },
  {
   "cell_type": "code",
   "execution_count": 3,
   "metadata": {
    "collapsed": false
   },
   "outputs": [],
   "source": [
    "#print(train.head())\n",
    "#print(test.head())\n",
    "#print(train.shape)\n",
    "#print(test.shape)\n",
    "#print(train.columns)\n",
    "#print(test.columns)"
   ]
  },
  {
   "cell_type": "markdown",
   "metadata": {},
   "source": [
    "VARIABLE DESCRIPTIONS:\n",
    "\n",
    "<table width=\"100%\">\n",
    "  <tbody>\n",
    "      <tr>\n",
    "      <td>PassengerId <br>\n",
    "      </td>\n",
    "\n",
    "      <td> Passenger Identity Number <br>\n",
    "      </td>\n",
    "    </tr>\n",
    "  \n",
    "    <tr>\n",
    "      <td>\n",
    "        <p>Survived</p>\n",
    "      </td>\n",
    "\n",
    "      <td>Survival (1 = Yes, 0&nbsp;=&nbsp;No)</td>\n",
    "    </tr>\n",
    "\n",
    "    <tr>\n",
    "      <td>PClass</td>\n",
    "\n",
    "      <td>\n",
    "        <p>Passenger Class (1 = 1st; 2 = 2nd; 3 = 3rd)</p>\n",
    "      </td>\n",
    "    </tr>\n",
    "\n",
    "    <tr>\n",
    "      <td>Name</td>\n",
    "\n",
    "      <td>Passanger Name</td>\n",
    "    </tr>\n",
    "    \n",
    "        <tr>\n",
    "      <td>Sex<br>\n",
    "      </td>\n",
    "\n",
    "      <td>Gender<br>\n",
    "      </td>\n",
    "    </tr>\n",
    "\n",
    "    <tr>\n",
    "      <td>Age</td>\n",
    "\n",
    "      <td>Age</td>\n",
    "    </tr>\n",
    "\n",
    "    <tr>\n",
    "      <td>Sibsp<br>\n",
    "      </td>\n",
    "\n",
    "      <td>Number of Siblings/&nbsp;Spouses Aboard<br>\n",
    "      </td>\n",
    "    </tr>\n",
    "\n",
    "    <tr>\n",
    "      <td>Parch</td>\n",
    "\n",
    "      <td>Number of Parents/ Children Aboard</td>\n",
    "    </tr>\n",
    "\n",
    "    <tr>\n",
    "      <td>Ticket<br>\n",
    "      </td>\n",
    "\n",
    "      <td>Ticket Number<br>\n",
    "      </td>\n",
    "    </tr>\n",
    "\n",
    "    <tr>\n",
    "      <td>Fare</td>\n",
    "\n",
    "      <td>Passenger Fare</td>\n",
    "    </tr>\n",
    "\n",
    "    <tr>\n",
    "      <td>Cabin</td>\n",
    "\n",
    "      <td>Cabin</td>\n",
    "    </tr>\n",
    "\n",
    "    <tr>\n",
    "      <td>Embarked</td>\n",
    "\n",
    "      <td>Port of Embarkation (C = Cherbourg; Q = Queenstown; S = Southampton)</td>\n",
    "    </tr>\n",
    "  </tbody>\n",
    "</table>"
   ]
  },
  {
   "cell_type": "code",
   "execution_count": 4,
   "metadata": {
    "collapsed": false
   },
   "outputs": [
    {
     "name": "stdout",
     "output_type": "stream",
     "text": [
      "<class 'pandas.core.frame.DataFrame'>\n",
      "RangeIndex: 891 entries, 0 to 890\n",
      "Data columns (total 12 columns):\n",
      "PassengerId    891 non-null int64\n",
      "Survived       891 non-null int64\n",
      "Pclass         891 non-null int64\n",
      "Name           891 non-null object\n",
      "Sex            891 non-null object\n",
      "Age            714 non-null float64\n",
      "SibSp          891 non-null int64\n",
      "Parch          891 non-null int64\n",
      "Ticket         891 non-null object\n",
      "Fare           891 non-null float64\n",
      "Cabin          204 non-null object\n",
      "Embarked       889 non-null object\n",
      "dtypes: float64(2), int64(5), object(5)\n",
      "memory usage: 83.6+ KB\n"
     ]
    }
   ],
   "source": [
    "train.info()"
   ]
  },
  {
   "cell_type": "code",
   "execution_count": 5,
   "metadata": {
    "collapsed": false
   },
   "outputs": [],
   "source": [
    "#The data of the Cabin column have 77% NaN\n",
    "#Names don't expect to have any relation with the survived of the people\n",
    "#The same for tickets\n",
    "train = train.drop('PassengerId', axis=1)\n",
    "train = train.drop('Cabin', axis=1)\n",
    "train = train.drop('Name', axis=1)\n",
    "train = train.drop('Ticket', axis=1)\n",
    "test = test.drop('PassengerId', axis=1)\n",
    "test = test.drop('Cabin', axis=1)\n",
    "test = test.drop('Name', axis=1)\n",
    "test = test.drop('Ticket', axis=1)\n"
   ]
  },
  {
   "cell_type": "code",
   "execution_count": 6,
   "metadata": {
    "collapsed": false
   },
   "outputs": [],
   "source": [
    "#Exploring data\n",
    "\n",
    "#print(train['Survived'].value_counts())\n",
    "#print(train['Pclass'].value_counts())\n",
    "#print(train['Sex'].value_counts())\n",
    "#print(train['Age'].value_counts())\n",
    "#print(train['SibSp'].value_counts())\n",
    "#print(train['Parch'].value_counts())\n",
    "#print(train['Fare'].value_counts())\n",
    "#print(train['Embarked'].value_counts())"
   ]
  },
  {
   "cell_type": "code",
   "execution_count": 7,
   "metadata": {
    "collapsed": true
   },
   "outputs": [],
   "source": [
    "sns.set_style(\"whitegrid\")\n",
    "sns.set_context(\"notebook\", font_scale=1.5)"
   ]
  },
  {
   "cell_type": "code",
   "execution_count": 8,
   "metadata": {
    "collapsed": false
   },
   "outputs": [
    {
     "data": {
      "text/plain": [
       "<matplotlib.axes._subplots.AxesSubplot at 0x104e9cf60>"
      ]
     },
     "execution_count": 8,
     "metadata": {},
     "output_type": "execute_result"
    },
    {
     "data": {
      "image/png": "[encoded data removed]",
      "text/plain": [
       "<matplotlib.figure.Figure at 0x11e746c88>"
      ]
     },
     "metadata": {},
     "output_type": "display_data"
    }
   ],
   "source": [
    "train['Survived'].value_counts().plot(kind='bar', title='Survival Counts')"
   ]
  },
  {
   "cell_type": "code",
   "execution_count": 9,
   "metadata": {
    "collapsed": false
   },
   "outputs": [
    {
     "data": {
      "text/plain": [
       "<matplotlib.axes._subplots.AxesSubplot at 0x11e8fd320>"
      ]
     },
     "execution_count": 9,
     "metadata": {},
     "output_type": "execute_result"
    },
    {
     "data": {
      "image/png": "[encoded data removed]",
      "text/plain": [
       "<matplotlib.figure.Figure at 0x11e8d3668>"
      ]
     },
     "metadata": {},
     "output_type": "display_data"
    }
   ],
   "source": [
    "sns.barplot(x=\"Sex\", y=\"Survived\", data=train)"
   ]
  },
  {
   "cell_type": "code",
   "execution_count": 10,
   "metadata": {
    "collapsed": false
   },
   "outputs": [
    {
     "data": {
      "text/plain": [
       "<matplotlib.axes._subplots.AxesSubplot at 0x11e966358>"
      ]
     },
     "execution_count": 10,
     "metadata": {},
     "output_type": "execute_result"
    },
    {
     "data": {
      "image/png": "[encoded data removed]",
      "text/plain": [
       "<matplotlib.figure.Figure at 0x11e9b3ba8>"
      ]
     },
     "metadata": {},
     "output_type": "display_data"
    }
   ],
   "source": [
    "sns.barplot(x=\"Pclass\", y=\"Survived\", data=train)"
   ]
  },
  {
   "cell_type": "code",
   "execution_count": 11,
   "metadata": {
    "collapsed": false
   },
   "outputs": [
    {
     "data": {
      "text/plain": [
       "<seaborn.axisgrid.FacetGrid at 0x11eb21d68>"
      ]
     },
     "execution_count": 11,
     "metadata": {},
     "output_type": "execute_result"
    },
    {
     "data": {
      "image/png": "[encoded data removed]",
      "text/plain": [
       "<matplotlib.figure.Figure at 0x11eb21da0>"
      ]
     },
     "metadata": {},
     "output_type": "display_data"
    }
   ],
   "source": [
    "sns.factorplot(x=\"Age\", data=train, kind=\"count\")"
   ]
  },
  {
   "cell_type": "code",
   "execution_count": 29,
   "metadata": {
    "collapsed": false
   },
   "outputs": [
    {
     "data": {
      "text/plain": [
       "[<matplotlib.lines.Line2D at 0x124b290f0>]"
      ]
     },
     "execution_count": 29,
     "metadata": {},
     "output_type": "execute_result"
    },
    {
     "data": {
      "image/png": "[encoded data removed]",
      "text/plain": [
       "<matplotlib.figure.Figure at 0x1239ef748>"
      ]
     },
     "metadata": {},
     "output_type": "display_data"
    }
   ],
   "source": [
    "import matplotlib.mlab as mlab\n",
    "import math\n",
    "\n",
    "mu = 0\n",
    "variance = 1\n",
    "sigma = math.sqrt(variance)\n",
    "x = numpy.linspace(0, 100, 100)\n",
    "plt.plot(x,mlab.normpdf(x, mu, sigma))"
   ]
  },
  {
   "cell_type": "code",
   "execution_count": 19,
   "metadata": {
    "collapsed": false
   },
   "outputs": [
    {
     "data": {
      "text/plain": [
       "<matplotlib.axes._subplots.AxesSubplot at 0x1215b76a0>"
      ]
     },
     "execution_count": 19,
     "metadata": {},
     "output_type": "execute_result"
    },
    {
     "data": {
      "image/png": "[encoded data removed]",
      "text/plain": [
       "<matplotlib.figure.Figure at 0x11eacda58>"
      ]
     },
     "metadata": {},
     "output_type": "display_data"
    }
   ],
   "source": [
    "train[\"Age\"].hist(bins=20)"
   ]
  },
  {
   "cell_type": "code",
   "execution_count": 27,
   "metadata": {
    "collapsed": false
   },
   "outputs": [
    {
     "data": {
      "text/plain": [
       "<matplotlib.axes._subplots.AxesSubplot at 0x123aae080>"
      ]
     },
     "execution_count": 27,
     "metadata": {},
     "output_type": "execute_result"
    },
    {
     "data": {
      "image/png": "[encoded data removed]",
      "text/plain": [
       "<matplotlib.figure.Figure at 0x123d4cf60>"
      ]
     },
     "metadata": {},
     "output_type": "display_data"
    }
   ],
   "source": [
    "Pclass1 = train[train[\"Pclass\"] == 1]\n",
    "sns.barplot(x=\"Age\", y=\"Fare\", data=Pclass1)"
   ]
  },
  {
   "cell_type": "code",
   "execution_count": null,
   "metadata": {
    "collapsed": true
   },
   "outputs": [],
   "source": []
  },
  {
   "cell_type": "code",
   "execution_count": 52,
   "metadata": {
    "collapsed": false
   },
   "outputs": [
    {
     "data": {
      "text/html": [
       "<div>\n",
       "<table border=\"1\" class=\"dataframe\">\n",
       "  <thead>\n",
       "    <tr style=\"text-align: right;\">\n",
       "      <th></th>\n",
       "      <th>Survived</th>\n",
       "      <th>Sex</th>\n",
       "      <th>Age</th>\n",
       "      <th>SibSp</th>\n",
       "      <th>Parch</th>\n",
       "      <th>Fare</th>\n",
       "      <th>Embarked</th>\n",
       "    </tr>\n",
       "    <tr>\n",
       "      <th>Pclass</th>\n",
       "      <th></th>\n",
       "      <th></th>\n",
       "      <th></th>\n",
       "      <th></th>\n",
       "      <th></th>\n",
       "      <th></th>\n",
       "      <th></th>\n",
       "    </tr>\n",
       "  </thead>\n",
       "  <tbody>\n",
       "    <tr>\n",
       "      <th>1</th>\n",
       "      <td>136</td>\n",
       "      <td>94</td>\n",
       "      <td>8011.42</td>\n",
       "      <td>90</td>\n",
       "      <td>77</td>\n",
       "      <td>18177.4125</td>\n",
       "      <td>339</td>\n",
       "    </tr>\n",
       "    <tr>\n",
       "      <th>2</th>\n",
       "      <td>87</td>\n",
       "      <td>76</td>\n",
       "      <td>5498.83</td>\n",
       "      <td>74</td>\n",
       "      <td>70</td>\n",
       "      <td>3801.8417</td>\n",
       "      <td>345</td>\n",
       "    </tr>\n",
       "    <tr>\n",
       "      <th>3</th>\n",
       "      <td>119</td>\n",
       "      <td>144</td>\n",
       "      <td>13004.92</td>\n",
       "      <td>302</td>\n",
       "      <td>193</td>\n",
       "      <td>6714.6951</td>\n",
       "      <td>772</td>\n",
       "    </tr>\n",
       "  </tbody>\n",
       "</table>\n",
       "</div>"
      ],
      "text/plain": [
       "        Survived  Sex       Age  SibSp  Parch        Fare  Embarked\n",
       "Pclass                                                             \n",
       "1            136   94   8011.42     90     77  18177.4125       339\n",
       "2             87   76   5498.83     74     70   3801.8417       345\n",
       "3            119  144  13004.92    302    193   6714.6951       772"
      ]
     },
     "execution_count": 52,
     "metadata": {},
     "output_type": "execute_result"
    }
   ],
   "source": [
    "Pclass = train.groupby(['Pclass']).sum()\n",
    "Pclass"
   ]
  },
  {
   "cell_type": "code",
   "execution_count": null,
   "metadata": {
    "collapsed": true
   },
   "outputs": [],
   "source": []
  },
  {
   "cell_type": "code",
   "execution_count": 7,
   "metadata": {
    "collapsed": false
   },
   "outputs": [],
   "source": [
    "# machine learning\n",
    "from sklearn.linear_model import LogisticRegression\n",
    "from sklearn.svm import SVC, LinearSVC\n",
    "from sklearn.ensemble import RandomForestClassifier\n",
    "from sklearn.neighbors import KNeighborsClassifier\n",
    "from sklearn.naive_bayes import GaussianNB\n",
    "\n",
    "\n",
    "\n",
    "from sklearn.metrics import accuracy_score"
   ]
  },
  {
   "cell_type": "code",
   "execution_count": 8,
   "metadata": {
    "collapsed": false
   },
   "outputs": [],
   "source": [
    "train['Sex'] = train['Sex'].apply(lambda x: 1 if x == 'female' else 0)\n",
    "test['Sex'] = test['Sex'].apply(lambda x: 1 if x == 'female' else 0)\n",
    "\n",
    "def embarked_num(value):\n",
    "    if value == 'S':\n",
    "        return 2\n",
    "    elif value == 'C':\n",
    "        return 1\n",
    "    else:\n",
    "        return 0\n",
    "    \n",
    "train['Embarked'] = train['Embarked'].apply(embarked_num)\n",
    "test['Embarked'] = test['Embarked'].apply(embarked_num)\n",
    "\n",
    "train['Age'] = train['Age'].fillna(30)\n",
    "test['Age'] = test['Age'].fillna(30)\n",
    "    "
   ]
  },
  {
   "cell_type": "code",
   "execution_count": 36,
   "metadata": {
    "collapsed": false
   },
   "outputs": [
    {
     "name": "stdout",
     "output_type": "stream",
     "text": [
      "score:  0.978461538462\n",
      "ac:  0.813278008299\n",
      "features importance: [ 0.27588566  0.09290262  0.28500888  0.34620283]\n",
      "features : Index(['Sex', 'Pclass', 'Age', 'Fare'], dtype='object')\n"
     ]
    }
   ],
   "source": [
    "# Random Forests\n",
    "\n",
    "c = ['Sex', 'Pclass', 'Age', 'Fare']\n",
    "X_train = train[c].iloc[:650,:]\n",
    "Y_train = train.iloc[:650:,0]\n",
    "X_test  = train[c].iloc[650:,:]\n",
    "Y_test  = train.iloc[650:,0]\n",
    "\n",
    "\n",
    "clf = RandomForestClassifier(n_estimators=100, random_state=30)\n",
    "\n",
    "clf.fit(X_train, Y_train)\n",
    "\n",
    "Y_pred = clf.predict(X_test)\n",
    "\n",
    "print('score: ', clf.score(X_train, Y_train))\n",
    "print('ac: ', accuracy_score(Y_pred, Y_test))\n",
    "print('features importance:',clf.feature_importances_)\n",
    "print('features :', X_train.columns)"
   ]
  },
  {
   "cell_type": "code",
   "execution_count": 37,
   "metadata": {
    "collapsed": false
   },
   "outputs": [
    {
     "name": "stdout",
     "output_type": "stream",
     "text": [
      "score:  0.790769230769\n",
      "ac:  0.813278008299\n"
     ]
    }
   ],
   "source": [
    "# LogisticRegression\n",
    "\n",
    "c = ['Sex', 'Pclass', 'Age', 'Fare']\n",
    "X_train = train.iloc[:650,1:]\n",
    "Y_train = train.iloc[:650:,0]\n",
    "X_test  = train.iloc[650:,1:]\n",
    "Y_test  = train.iloc[650:,0]\n",
    "\n",
    "\n",
    "clf = LogisticRegression()\n",
    "\n",
    "clf.fit(X_train, Y_train)\n",
    "\n",
    "Y_pred = clf.predict(X_test)\n",
    "\n",
    "print('score: ', clf.score(X_train, Y_train))\n",
    "print('ac: ', accuracy_score(Y_pred, Y_test))\n",
    "#print('features importance:',clf.feature_importances_)\n",
    "#print('features :', X_train.columns)"
   ]
  },
  {
   "cell_type": "code",
   "execution_count": 78,
   "metadata": {
    "collapsed": false
   },
   "outputs": [
    {
     "name": "stdout",
     "output_type": "stream",
     "text": [
      "score:  0.82\n",
      "ac:  0.825726141079\n",
      "features importance: [ 0.6038553   0.17936963  0.0977035   0.11907156]\n",
      "features : Index(['Sex', 'Pclass', 'Age', 'Fare'], dtype='object')\n"
     ]
    }
   ],
   "source": [
    "# Dession Tree\n",
    "\n",
    "c = ['Sex','Pclass',  'Age', 'Fare']# ,'Embarked']\n",
    "X_train = train[c].iloc[:650,:]\n",
    "Y_train = train.iloc[:650:,0]\n",
    "X_test  = train[c].iloc[650:,:]\n",
    "Y_test  = train.iloc[650:,0]\n",
    "\n",
    "from sklearn import tree\n",
    "\n",
    "clf = tree.DecisionTreeClassifier(min_samples_split=60)\n",
    "\n",
    "clf.fit(X_train, Y_train)\n",
    "\n",
    "Y_pred = clf.predict(X_test)\n",
    "\n",
    "print('score: ', clf.score(X_train, Y_train))\n",
    "print('ac: ', accuracy_score(Y_pred, Y_test))\n",
    "print('features importance:',clf.feature_importances_)\n",
    "print('features :', X_train.columns)"
   ]
  },
  {
   "cell_type": "code",
   "execution_count": 12,
   "metadata": {
    "collapsed": false
   },
   "outputs": [
    {
     "name": "stdout",
     "output_type": "stream",
     "text": [
      "score:  0.776923076923\n",
      "ac:  0.796680497925\n"
     ]
    }
   ],
   "source": [
    "# LogisticRegression\n",
    "\n",
    "c = ['Sex', 'Age', 'Fare']\n",
    "X_train = train[c].iloc[:650,:]\n",
    "Y_train = train.iloc[:650:,0]\n",
    "X_test  = train[c].iloc[650:,:]\n",
    "Y_test  = train.iloc[650:,0]\n",
    "\n",
    "\n",
    "clf = GaussianNB()\n",
    "\n",
    "clf.fit(X_train, Y_train)\n",
    "\n",
    "Y_pred = clf.predict(X_test)\n",
    "\n",
    "print('score: ', clf.score(X_train, Y_train))\n",
    "print('ac: ', accuracy_score(Y_pred, Y_test))\n",
    "#print('features importance:',clf.feature_importances_)\n",
    "#print('features :', X_train.columns)"
   ]
  },
  {
   "cell_type": "code",
   "execution_count": 13,
   "metadata": {
    "collapsed": false
   },
   "outputs": [
    {
     "name": "stdout",
     "output_type": "stream",
     "text": [
      "score:  0.827692307692\n",
      "ac:  0.838174273859\n",
      "features importance: [ 0.08  0.04  0.32  0.52  0.04]\n",
      "features : Index(['Pclass', 'Sex', 'Age', 'Fare', 'Embarked'], dtype='object')\n"
     ]
    }
   ],
   "source": [
    "from sklearn.ensemble import AdaBoostClassifier\n",
    "\n",
    "\n",
    "c = ['Pclass', 'Sex', 'Age', 'Fare', 'Embarked']\n",
    "X_train = train[c].iloc[:650,:]\n",
    "Y_train = train.iloc[:650:,0]\n",
    "X_test  = train[c].iloc[650:,:]\n",
    "Y_test  = train.iloc[650:,0]\n",
    "\n",
    "\n",
    "clf = AdaBoostClassifier()\n",
    "\n",
    "clf.fit(X_train, Y_train)\n",
    "\n",
    "Y_pred = clf.predict(X_test)\n",
    "\n",
    "print('score: ', clf.score(X_train, Y_train))\n",
    "print('ac: ', accuracy_score(Y_pred, Y_test))\n",
    "print('features importance:',clf.feature_importances_)\n",
    "print('features :', X_train.columns)"
   ]
  },
  {
   "cell_type": "code",
   "execution_count": 24,
   "metadata": {
    "collapsed": false
   },
   "outputs": [
    {
     "name": "stdout",
     "output_type": "stream",
     "text": [
      "[0, 1, 0, 1, 1, 0, 0, 1, 0, 0, 0, 0, 0, 0, 0, 0, 0, 0, 0, 1, 1, 0, 0, 0, 0, 0, 0, 1, 1, 0, 1, 0, 0, 0, 0, 0, 0, 0, 0, 1, 0, 1, 0, 0, 0, 0, 0, 1, 0, 0, 1, 0, 1, 0, 0, 0, 1, 0, 1, 0, 1, 0, 0, 0, 0, 0, 1, 1, 0, 0, 1, 0, 0, 0, 0, 0, 1, 1, 0, 1, 1, 0, 0, 0, 0, 0, 1, 0, 0, 0, 0, 0, 1, 0, 0, 0, 0, 1, 0, 0, 1, 0, 0, 0, 1, 0, 0, 0, 0, 1, 0, 0, 0, 1, 0, 1, 0, 1, 0, 0, 0, 0, 1, 0, 1, 0, 0, 1, 0, 1, 1, 1, 0, 0, 0, 0, 1, 0, 0, 0, 0, 0, 1, 0, 0, 0, 1, 1, 0, 1, 0, 1, 1, 0, 0, 0, 0, 1, 0, 1, 0, 0, 0, 1, 0, 0, 1, 0, 0, 0, 1, 0, 0, 1, 0, 0, 0, 0, 0, 1, 1, 0, 0, 0, 0, 1, 0, 0, 0, 0, 0, 0, 1, 0, 0, 0, 0, 0, 0, 1, 0, 0, 1, 1, 1, 1, 1, 0, 1, 0, 0, 0, 1, 1, 0, 1, 1, 0, 0, 0, 0, 1, 0, 0, 1, 1, 0, 0, 0, 1, 1, 0, 1, 0, 0, 1, 0, 1, 1, 0, 0]\n",
      "ac:  0.792531120332\n"
     ]
    }
   ],
   "source": [
    "\n",
    "\n",
    "predictions = {}\n",
    "pre = []\n",
    "\n",
    "for passenger_id, passenger in X_test.iterrows():\n",
    "    if passenger['Sex'] == 1:\n",
    "        pre.append(1)\n",
    "    elif passenger['Pclass'] == 1 and passenger['Age'] < 15:\n",
    "        pre.append(1)\n",
    "    else:\n",
    "        pre.append(0)\n",
    "\n",
    "\n",
    "\n",
    "print(pre)\n",
    "print('ac: ', accuracy_score(pre, Y_test))"
   ]
  },
  {
   "cell_type": "code",
   "execution_count": null,
   "metadata": {
    "collapsed": true
   },
   "outputs": [],
   "source": []
  }
 ],
 "metadata": {
  "kernelspec": {
   "display_name": "Python 3",
   "language": "python",
   "name": "python3"
  },
  "language_info": {
   "codemirror_mode": {
    "name": "ipython",
    "version": 3
   },
   "file_extension": ".py",
   "mimetype": "text/x-python",
   "name": "python",
   "nbconvert_exporter": "python",
   "pygments_lexer": "ipython3",
   "version": "3.5.2"
  }
 },
 "nbformat": 4,
 "nbformat_minor": 1
}
